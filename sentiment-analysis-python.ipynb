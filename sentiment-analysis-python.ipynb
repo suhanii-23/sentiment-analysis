{
 "cells": [
  {
   "cell_type": "code",
   "execution_count": null,
   "metadata": {
    "execution": {
     "iopub.execute_input": "2022-05-04T19:39:21.716451Z",
     "iopub.status.busy": "2022-05-04T19:39:21.715793Z",
     "iopub.status.idle": "2022-05-04T19:39:23.804667Z",
     "shell.execute_reply": "2022-05-04T19:39:23.803713Z",
     "shell.execute_reply.started": "2022-05-04T19:39:21.716291Z"
    },
    "trusted": true
   },
   "outputs": [],
   "source": [
    "import pandas as pd\n",
    "import numpy as np\n",
    "import matplotlib.pyplot as plt\n",
    "import seaborn as sns\n",
    "\n",
    "plt.style.use('ggplot')\n",
    "\n",
    "import nltk"
   ]
  },
  {
   "cell_type": "code",
   "execution_count": null,
   "metadata": {
    "execution": {
     "iopub.execute_input": "2022-05-04T19:40:57.583681Z",
     "iopub.status.busy": "2022-05-04T19:40:57.583163Z",
     "iopub.status.idle": "2022-05-04T19:41:02.153565Z",
     "shell.execute_reply": "2022-05-04T19:41:02.152345Z",
     "shell.execute_reply.started": "2022-05-04T19:40:57.583629Z"
    },
    "trusted": true
   },
   "outputs": [],
   "source": [
    "# Reading in data\n",
    "df = pd.read_csv('../input/amazon-fine-food-reviews/Reviews.csv')\n",
    "print(df.shape)\n",
    "df = df.head(500)\n",
    "print(df.shape)"
   ]
  },
  {
   "cell_type": "code",
   "execution_count": null,
   "metadata": {
    "execution": {
     "iopub.execute_input": "2022-05-04T19:41:11.259584Z",
     "iopub.status.busy": "2022-05-04T19:41:11.259303Z",
     "iopub.status.idle": "2022-05-04T19:41:11.274472Z",
     "shell.execute_reply": "2022-05-04T19:41:11.27385Z",
     "shell.execute_reply.started": "2022-05-04T19:41:11.259556Z"
    },
    "trusted": true
   },
   "outputs": [],
   "source": [
    "df.head()"
   ]
  },
  {
   "cell_type": "code",
   "execution_count": null,
   "metadata": {
    "execution": {
     "iopub.execute_input": "2022-05-04T19:42:20.960612Z",
     "iopub.status.busy": "2022-05-04T19:42:20.960296Z",
     "iopub.status.idle": "2022-05-04T19:42:21.160845Z",
     "shell.execute_reply": "2022-05-04T19:42:21.159781Z",
     "shell.execute_reply.started": "2022-05-04T19:42:20.960582Z"
    },
    "trusted": true
   },
   "outputs": [],
   "source": [
    "ax = df['Score'].value_counts().sort_index() \\\n",
    "    .plot(kind='bar',\n",
    "          title='Stars review',\n",
    "          figsize=(10, 5))\n",
    "ax.set_xlabel('Review Stars')\n",
    "plt.show()"
   ]
  },
  {
   "cell_type": "code",
   "execution_count": null,
   "metadata": {
    "execution": {
     "iopub.execute_input": "2022-05-04T19:43:03.801913Z",
     "iopub.status.busy": "2022-05-04T19:43:03.80111Z",
     "iopub.status.idle": "2022-05-04T19:43:03.807131Z",
     "shell.execute_reply": "2022-05-04T19:43:03.80649Z",
     "shell.execute_reply.started": "2022-05-04T19:43:03.801876Z"
    },
    "trusted": true
   },
   "outputs": [],
   "source": [
    "example = df['Text'][50]\n",
    "print(example)"
   ]
  },
  {
   "cell_type": "code",
   "execution_count": null,
   "metadata": {
    "execution": {
     "iopub.execute_input": "2022-05-04T19:44:19.076415Z",
     "iopub.status.busy": "2022-05-04T19:44:19.0761Z",
     "iopub.status.idle": "2022-05-04T19:44:19.083725Z",
     "shell.execute_reply": "2022-05-04T19:44:19.082703Z",
     "shell.execute_reply.started": "2022-05-04T19:44:19.076369Z"
    },
    "trusted": true
   },
   "outputs": [],
   "source": [
    "tokens = nltk.word_tokenize(example)\n",
    "tokens[:10]"
   ]
  },
  {
   "cell_type": "code",
   "execution_count": null,
   "metadata": {
    "execution": {
     "iopub.execute_input": "2022-05-04T19:45:28.695458Z",
     "iopub.status.busy": "2022-05-04T19:45:28.695062Z",
     "iopub.status.idle": "2022-05-04T19:45:28.704207Z",
     "shell.execute_reply": "2022-05-04T19:45:28.703294Z",
     "shell.execute_reply.started": "2022-05-04T19:45:28.695397Z"
    },
    "trusted": true
   },
   "outputs": [],
   "source": [
    "tagged = nltk.pos_tag(tokens)\n",
    "tagged[:10]"
   ]
  },
  {
   "cell_type": "code",
   "execution_count": null,
   "metadata": {
    "execution": {
     "iopub.execute_input": "2022-05-04T19:46:29.293174Z",
     "iopub.status.busy": "2022-05-04T19:46:29.292885Z",
     "iopub.status.idle": "2022-05-04T19:46:29.308244Z",
     "shell.execute_reply": "2022-05-04T19:46:29.307274Z",
     "shell.execute_reply.started": "2022-05-04T19:46:29.293142Z"
    },
    "trusted": true
   },
   "outputs": [],
   "source": [
    "entities = nltk.chunk.ne_chunk(tagged)\n",
    "entities.pprint()"
   ]
  },
  {
   "cell_type": "code",
   "execution_count": null,
   "metadata": {
    "execution": {
     "iopub.execute_input": "2022-05-04T19:49:00.872374Z",
     "iopub.status.busy": "2022-05-04T19:49:00.871775Z",
     "iopub.status.idle": "2022-05-04T19:49:00.897436Z",
     "shell.execute_reply": "2022-05-04T19:49:00.896255Z",
     "shell.execute_reply.started": "2022-05-04T19:49:00.872332Z"
    },
    "trusted": true
   },
   "outputs": [],
   "source": [
    "from nltk.sentiment import SentimentIntensityAnalyzer\n",
    "from tqdm.notebook import tqdm\n",
    "\n",
    "sia = SentimentIntensityAnalyzer()"
   ]
  },
  {
   "cell_type": "code",
   "execution_count": null,
   "metadata": {
    "execution": {
     "iopub.execute_input": "2022-05-04T19:49:23.163454Z",
     "iopub.status.busy": "2022-05-04T19:49:23.162587Z",
     "iopub.status.idle": "2022-05-04T19:49:23.169341Z",
     "shell.execute_reply": "2022-05-04T19:49:23.168416Z",
     "shell.execute_reply.started": "2022-05-04T19:49:23.163405Z"
    },
    "trusted": true
   },
   "outputs": [],
   "source": [
    "sia.polarity_scores('i am so excited!')"
   ]
  },
  {
   "cell_type": "code",
   "execution_count": null,
   "metadata": {
    "execution": {
     "iopub.execute_input": "2022-05-04T19:50:17.484008Z",
     "iopub.status.busy": "2022-05-04T19:50:17.483709Z",
     "iopub.status.idle": "2022-05-04T19:50:17.490483Z",
     "shell.execute_reply": "2022-05-04T19:50:17.489645Z",
     "shell.execute_reply.started": "2022-05-04T19:50:17.483975Z"
    },
    "trusted": true
   },
   "outputs": [],
   "source": [
    "sia.polarity_scores('this is so disgusting.')"
   ]
  },
  {
   "cell_type": "code",
   "execution_count": null,
   "metadata": {
    "execution": {
     "iopub.execute_input": "2022-05-04T19:50:56.002141Z",
     "iopub.status.busy": "2022-05-04T19:50:56.001818Z",
     "iopub.status.idle": "2022-05-04T19:50:56.008847Z",
     "shell.execute_reply": "2022-05-04T19:50:56.00804Z",
     "shell.execute_reply.started": "2022-05-04T19:50:56.0021Z"
    },
    "trusted": true
   },
   "outputs": [],
   "source": [
    "sia.polarity_scores(example)"
   ]
  },
  {
   "cell_type": "code",
   "execution_count": null,
   "metadata": {
    "execution": {
     "iopub.execute_input": "2022-05-04T19:52:58.893588Z",
     "iopub.status.busy": "2022-05-04T19:52:58.893245Z",
     "iopub.status.idle": "2022-05-04T19:52:59.49514Z",
     "shell.execute_reply": "2022-05-04T19:52:59.494275Z",
     "shell.execute_reply.started": "2022-05-04T19:52:58.893552Z"
    },
    "trusted": true
   },
   "outputs": [],
   "source": [
    "# Run the polarity score on the entire dataset\n",
    "res = {}\n",
    "for i, row in tqdm(df.iterrows(), total=len(df)):\n",
    "    text = row['Text']\n",
    "    myid = row['Id']\n",
    "    res[myid] = sia.polarity_scores(text)"
   ]
  },
  {
   "cell_type": "code",
   "execution_count": null,
   "metadata": {
    "execution": {
     "iopub.execute_input": "2022-05-04T19:54:30.925103Z",
     "iopub.status.busy": "2022-05-04T19:54:30.924791Z",
     "iopub.status.idle": "2022-05-04T19:54:30.966166Z",
     "shell.execute_reply": "2022-05-04T19:54:30.965461Z",
     "shell.execute_reply.started": "2022-05-04T19:54:30.925073Z"
    },
    "trusted": true
   },
   "outputs": [],
   "source": [
    "vaders = pd.DataFrame(res).T\n",
    "vaders = vaders.reset_index().rename(columns={'index': 'Id'})\n",
    "vaders = vaders.merge(df, how='left')"
   ]
  },
  {
   "cell_type": "code",
   "execution_count": null,
   "metadata": {
    "execution": {
     "iopub.execute_input": "2022-05-04T19:54:54.822947Z",
     "iopub.status.busy": "2022-05-04T19:54:54.822445Z",
     "iopub.status.idle": "2022-05-04T19:54:54.841701Z",
     "shell.execute_reply": "2022-05-04T19:54:54.840666Z",
     "shell.execute_reply.started": "2022-05-04T19:54:54.822898Z"
    },
    "trusted": true
   },
   "outputs": [],
   "source": [
    "# Now we have sentiment score and metadata\n",
    "vaders.head()"
   ]
  },
  {
   "cell_type": "code",
   "execution_count": null,
   "metadata": {
    "execution": {
     "iopub.execute_input": "2022-05-04T19:56:43.932173Z",
     "iopub.status.busy": "2022-05-04T19:56:43.93162Z",
     "iopub.status.idle": "2022-05-04T19:56:44.304355Z",
     "shell.execute_reply": "2022-05-04T19:56:44.303225Z",
     "shell.execute_reply.started": "2022-05-04T19:56:43.932133Z"
    },
    "trusted": true
   },
   "outputs": [],
   "source": [
    "ax = sns.barplot(data=vaders, x='Score', y='compound')\n",
    "ax.set_title('Compund Score by Amazon Star Review')\n",
    "plt.show()"
   ]
  },
  {
   "cell_type": "code",
   "execution_count": null,
   "metadata": {
    "execution": {
     "iopub.execute_input": "2022-05-04T19:59:44.605727Z",
     "iopub.status.busy": "2022-05-04T19:59:44.605431Z",
     "iopub.status.idle": "2022-05-04T19:59:45.475907Z",
     "shell.execute_reply": "2022-05-04T19:59:45.475026Z",
     "shell.execute_reply.started": "2022-05-04T19:59:44.605697Z"
    },
    "trusted": true
   },
   "outputs": [],
   "source": [
    "fig, axs = plt.subplots(1, 3, figsize=(12, 3))\n",
    "sns.barplot(data=vaders, x='Score', y='pos', ax=axs[0])\n",
    "sns.barplot(data=vaders, x='Score', y='neu', ax=axs[1])\n",
    "sns.barplot(data=vaders, x='Score', y='neg', ax=axs[2])\n",
    "axs[0].set_title('Positive')\n",
    "axs[1].set_title('Neutral')\n",
    "axs[2].set_title('Negative')\n",
    "plt.tight_layout()\n",
    "plt.show()"
   ]
  },
  {
   "cell_type": "code",
   "execution_count": null,
   "metadata": {
    "execution": {
     "iopub.execute_input": "2022-05-04T20:02:04.544844Z",
     "iopub.status.busy": "2022-05-04T20:02:04.543909Z",
     "iopub.status.idle": "2022-05-04T20:02:04.549708Z",
     "shell.execute_reply": "2022-05-04T20:02:04.54872Z",
     "shell.execute_reply.started": "2022-05-04T20:02:04.544786Z"
    },
    "trusted": true
   },
   "outputs": [],
   "source": [
    "from transformers import AutoTokenizer\n",
    "from transformers import AutoModelForSequenceClassification\n",
    "from scipy.special import softmax"
   ]
  },
  {
   "cell_type": "code",
   "execution_count": null,
   "metadata": {
    "execution": {
     "iopub.execute_input": "2022-05-04T20:02:34.967204Z",
     "iopub.status.busy": "2022-05-04T20:02:34.966403Z",
     "iopub.status.idle": "2022-05-04T20:03:04.534818Z",
     "shell.execute_reply": "2022-05-04T20:03:04.533813Z",
     "shell.execute_reply.started": "2022-05-04T20:02:34.967162Z"
    },
    "trusted": true
   },
   "outputs": [],
   "source": [
    "MODEL = f\"cardiffnlp/twitter-roberta-base-sentiment\"\n",
    "tokenizer = AutoTokenizer.from_pretrained(MODEL)\n",
    "model = AutoModelForSequenceClassification.from_pretrained(MODEL)"
   ]
  },
  {
   "cell_type": "code",
   "execution_count": null,
   "metadata": {
    "execution": {
     "iopub.execute_input": "2022-05-04T20:03:28.570335Z",
     "iopub.status.busy": "2022-05-04T20:03:28.569359Z",
     "iopub.status.idle": "2022-05-04T20:03:28.581962Z",
     "shell.execute_reply": "2022-05-04T20:03:28.58106Z",
     "shell.execute_reply.started": "2022-05-04T20:03:28.57029Z"
    },
    "trusted": true
   },
   "outputs": [],
   "source": [
    "# VADER results on example\n",
    "print(example)\n",
    "sia.polarity_scores(example)"
   ]
  },
  {
   "cell_type": "code",
   "execution_count": null,
   "metadata": {
    "execution": {
     "iopub.execute_input": "2022-05-04T20:06:17.759136Z",
     "iopub.status.busy": "2022-05-04T20:06:17.758657Z",
     "iopub.status.idle": "2022-05-04T20:06:17.880012Z",
     "shell.execute_reply": "2022-05-04T20:06:17.879226Z",
     "shell.execute_reply.started": "2022-05-04T20:06:17.7591Z"
    },
    "trusted": true
   },
   "outputs": [],
   "source": [
    "# Run for Roberta Model\n",
    "encoded_text = tokenizer(example, return_tensors='pt')\n",
    "output = model(**encoded_text)\n",
    "scores = output[0][0].detach().numpy()\n",
    "scores = softmax(scores)\n",
    "scores_dict = {\n",
    "    'roberta_neg' : scores[0],\n",
    "    'roberta_neu' : scores[1],\n",
    "    'roberta_pos' : scores[2]\n",
    "}\n",
    "print(scores_dict)"
   ]
  },
  {
   "cell_type": "code",
   "execution_count": null,
   "metadata": {
    "execution": {
     "iopub.execute_input": "2022-05-04T20:07:13.065087Z",
     "iopub.status.busy": "2022-05-04T20:07:13.064444Z",
     "iopub.status.idle": "2022-05-04T20:07:13.071124Z",
     "shell.execute_reply": "2022-05-04T20:07:13.070421Z",
     "shell.execute_reply.started": "2022-05-04T20:07:13.065019Z"
    },
    "trusted": true
   },
   "outputs": [],
   "source": [
    "def polarity_scores_roberta(example):\n",
    "    encoded_text = tokenizer(example, return_tensors='pt')\n",
    "    output = model(**encoded_text)\n",
    "    scores = output[0][0].detach().numpy()\n",
    "    scores = softmax(scores)\n",
    "    scores_dict = {\n",
    "        'roberta_neg' : scores[0],\n",
    "        'roberta_neu' : scores[1],\n",
    "        'roberta_pos' : scores[2]\n",
    "    }\n",
    "    return scores_dict"
   ]
  },
  {
   "cell_type": "code",
   "execution_count": null,
   "metadata": {
    "execution": {
     "iopub.execute_input": "2022-05-04T20:10:38.073859Z",
     "iopub.status.busy": "2022-05-04T20:10:38.073568Z",
     "iopub.status.idle": "2022-05-04T20:12:19.631136Z",
     "shell.execute_reply": "2022-05-04T20:12:19.630135Z",
     "shell.execute_reply.started": "2022-05-04T20:10:38.07383Z"
    },
    "trusted": true
   },
   "outputs": [],
   "source": [
    "res = {}\n",
    "for i, row in tqdm(df.iterrows(), total=len(df)):\n",
    "    try:\n",
    "        text = row['Text']\n",
    "        myid = row['Id']\n",
    "        vader_result = sia.polarity_scores(text)\n",
    "        vader_result_rename = {}\n",
    "        for key, value in vader_result.items():\n",
    "            vader_result_rename[f\"vader_{key}\"] = value\n",
    "        roberta_result = polarity_scores_roberta(text)\n",
    "        both = {**vader_result_rename, **roberta_result}\n",
    "        res[myid] = both\n",
    "    except RuntimeError:\n",
    "        print(f'Broke for id {myid}')"
   ]
  },
  {
   "cell_type": "code",
   "execution_count": null,
   "metadata": {
    "execution": {
     "iopub.execute_input": "2022-05-04T20:13:25.789608Z",
     "iopub.status.busy": "2022-05-04T20:13:25.789228Z",
     "iopub.status.idle": "2022-05-04T20:13:25.830997Z",
     "shell.execute_reply": "2022-05-04T20:13:25.829815Z",
     "shell.execute_reply.started": "2022-05-04T20:13:25.789567Z"
    },
    "trusted": true
   },
   "outputs": [],
   "source": [
    "results_df = pd.DataFrame(res).T\n",
    "results_df = results_df.reset_index().rename(columns={'index': 'Id'})\n",
    "results_df = results_df.merge(df, how='left')"
   ]
  },
  {
   "cell_type": "code",
   "execution_count": null,
   "metadata": {
    "execution": {
     "iopub.execute_input": "2022-05-04T20:14:18.110755Z",
     "iopub.status.busy": "2022-05-04T20:14:18.110445Z",
     "iopub.status.idle": "2022-05-04T20:14:18.117026Z",
     "shell.execute_reply": "2022-05-04T20:14:18.116414Z",
     "shell.execute_reply.started": "2022-05-04T20:14:18.110719Z"
    },
    "trusted": true
   },
   "outputs": [],
   "source": [
    "results_df.columns"
   ]
  },
  {
   "cell_type": "code",
   "execution_count": null,
   "metadata": {
    "execution": {
     "iopub.execute_input": "2022-05-04T20:15:03.034071Z",
     "iopub.status.busy": "2022-05-04T20:15:03.033224Z",
     "iopub.status.idle": "2022-05-04T20:15:15.660691Z",
     "shell.execute_reply": "2022-05-04T20:15:15.659964Z",
     "shell.execute_reply.started": "2022-05-04T20:15:03.034018Z"
    },
    "trusted": true
   },
   "outputs": [],
   "source": [
    "sns.pairplot(data=results_df,\n",
    "             vars=['vader_neg', 'vader_neu', 'vader_pos',\n",
    "                  'roberta_neg', 'roberta_neu', 'roberta_pos'],\n",
    "            hue='Score',\n",
    "            palette='tab10')\n",
    "plt.show()"
   ]
  },
  {
   "cell_type": "code",
   "execution_count": null,
   "metadata": {
    "execution": {
     "iopub.execute_input": "2022-05-04T20:17:40.454931Z",
     "iopub.status.busy": "2022-05-04T20:17:40.45463Z",
     "iopub.status.idle": "2022-05-04T20:17:40.466941Z",
     "shell.execute_reply": "2022-05-04T20:17:40.465905Z",
     "shell.execute_reply.started": "2022-05-04T20:17:40.454899Z"
    },
    "trusted": true
   },
   "outputs": [],
   "source": [
    "results_df.query('Score == 1') \\\n",
    "    .sort_values('roberta_pos', ascending=False)['Text'].values[0]"
   ]
  },
  {
   "cell_type": "code",
   "execution_count": null,
   "metadata": {
    "execution": {
     "iopub.execute_input": "2022-05-04T20:18:29.570823Z",
     "iopub.status.busy": "2022-05-04T20:18:29.570513Z",
     "iopub.status.idle": "2022-05-04T20:18:29.581437Z",
     "shell.execute_reply": "2022-05-04T20:18:29.580549Z",
     "shell.execute_reply.started": "2022-05-04T20:18:29.57079Z"
    },
    "trusted": true
   },
   "outputs": [],
   "source": [
    "results_df.query('Score == 1') \\\n",
    "    .sort_values('vader_pos', ascending=False)['Text'].values[0]"
   ]
  },
  {
   "cell_type": "code",
   "execution_count": null,
   "metadata": {},
   "outputs": [],
   "source": [
    "# nevative sentiment 5-Star view"
   ]
  },
  {
   "cell_type": "code",
   "execution_count": null,
   "metadata": {
    "execution": {
     "iopub.execute_input": "2022-05-04T20:19:28.636791Z",
     "iopub.status.busy": "2022-05-04T20:19:28.636456Z",
     "iopub.status.idle": "2022-05-04T20:19:28.649423Z",
     "shell.execute_reply": "2022-05-04T20:19:28.648342Z",
     "shell.execute_reply.started": "2022-05-04T20:19:28.63676Z"
    },
    "trusted": true
   },
   "outputs": [],
   "source": [
    "results_df.query('Score == 5') \\\n",
    "    .sort_values('roberta_neg', ascending=False)['Text'].values[0]"
   ]
  },
  {
   "cell_type": "code",
   "execution_count": null,
   "metadata": {
    "execution": {
     "iopub.execute_input": "2022-05-04T20:19:50.668588Z",
     "iopub.status.busy": "2022-05-04T20:19:50.668083Z",
     "iopub.status.idle": "2022-05-04T20:19:50.680922Z",
     "shell.execute_reply": "2022-05-04T20:19:50.679368Z",
     "shell.execute_reply.started": "2022-05-04T20:19:50.668533Z"
    },
    "trusted": true
   },
   "outputs": [],
   "source": [
    "results_df.query('Score == 5') \\\n",
    "    .sort_values('vader_neg', ascending=False)['Text'].values[0]"
   ]
  },
  {
   "cell_type": "code",
   "execution_count": null,
   "metadata": {
    "execution": {
     "iopub.execute_input": "2022-05-04T20:21:29.274918Z",
     "iopub.status.busy": "2022-05-04T20:21:29.273878Z",
     "iopub.status.idle": "2022-05-04T20:21:53.761691Z",
     "shell.execute_reply": "2022-05-04T20:21:53.760809Z",
     "shell.execute_reply.started": "2022-05-04T20:21:29.274856Z"
    },
    "trusted": true
   },
   "outputs": [],
   "source": [
    "from transformers import pipeline\n",
    "\n",
    "sent_pipeline = pipeline(\"sentiment-analysis\")"
   ]
  },
  {
   "cell_type": "code",
   "execution_count": null,
   "metadata": {
    "execution": {
     "iopub.execute_input": "2022-05-04T20:22:03.114344Z",
     "iopub.status.busy": "2022-05-04T20:22:03.114046Z",
     "iopub.status.idle": "2022-05-04T20:22:03.160623Z",
     "shell.execute_reply": "2022-05-04T20:22:03.159837Z",
     "shell.execute_reply.started": "2022-05-04T20:22:03.114311Z"
    },
    "trusted": true
   },
   "outputs": [],
   "source": [
    "sent_pipeline('I love machine learning!')"
   ]
  }
 ],
 "metadata": {
  "kaggle": {
   "accelerator": "none",
   "dataSources": [
    {
     "datasetId": 18,
     "sourceId": 2157,
     "sourceType": "datasetVersion"
    }
   ],
   "dockerImageVersionId": 30184,
   "isGpuEnabled": false,
   "isInternetEnabled": false,
   "language": "python",
   "sourceType": "notebook"
  },
  "kernelspec": {
   "display_name": "Python 3",
   "language": "python",
   "name": "python3"
  },
  "language_info": {
   "codemirror_mode": {
    "name": "ipython",
    "version": 3
   },
   "file_extension": ".py",
   "mimetype": "text/x-python",
   "name": "python",
   "nbconvert_exporter": "python",
   "pygments_lexer": "ipython3",
   "version": "3.6.4"
  }
 },
 "nbformat": 4,
 "nbformat_minor": 4
}
